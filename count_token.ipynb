{
 "cells": [
  {
   "cell_type": "code",
   "execution_count": 113,
   "metadata": {},
   "outputs": [
    {
     "name": "stderr",
     "output_type": "stream",
     "text": [
      "Found cached dataset squad (/storagenfs/m.tolloso/.cache/huggingface/datasets/squad/plain_text/1.0.0/d6ec3ceb99ca480ce37cdd35555d6cb2511d223b9150cce08a837ef62ffea453)\n",
      "100%|██████████| 2/2 [00:00<00:00, 356.20it/s]\n"
     ]
    }
   ],
   "source": [
    "import torch\n",
    "from datasets import load_dataset\n",
    "import pandas as pd\n",
    "\n",
    "squad = load_dataset(\"squad\")\n",
    "squadTrn = pd.DataFrame(squad[\"train\"])"
   ]
  },
  {
   "cell_type": "code",
   "execution_count": 114,
   "metadata": {},
   "outputs": [
    {
     "name": "stdout",
     "output_type": "stream",
     "text": [
      "<class 'pandas.core.frame.DataFrame'>\n",
      "RangeIndex: 87599 entries, 0 to 87598\n",
      "Data columns (total 5 columns):\n",
      " #   Column    Non-Null Count  Dtype \n",
      "---  ------    --------------  ----- \n",
      " 0   id        87599 non-null  object\n",
      " 1   title     87599 non-null  object\n",
      " 2   context   87599 non-null  object\n",
      " 3   question  87599 non-null  object\n",
      " 4   answers   87599 non-null  object\n",
      "dtypes: object(5)\n",
      "memory usage: 3.3+ MB\n"
     ]
    }
   ],
   "source": [
    "squadTrn.info()"
   ]
  },
  {
   "cell_type": "code",
   "execution_count": 115,
   "metadata": {},
   "outputs": [],
   "source": [
    "trnAns= []\n",
    "for el in squadTrn['answers']:\n",
    "    trnAns.append(el['text'])\n",
    "    \n",
    "trnAnswers = pd.DataFrame(trnAns)"
   ]
  },
  {
   "cell_type": "code",
   "execution_count": 116,
   "metadata": {},
   "outputs": [],
   "source": [
    "trnAnswers[\"split\"] = trnAnswers[0].str.split(' ')\n",
    "trnAnswers[\"num_of_words\"] = trnAnswers[\"split\"].apply(lambda x: len(x))\n",
    "# Order by number of words\n",
    "trnAnswers = trnAnswers.sort_values(\"num_of_words\", ascending=False)"
   ]
  },
  {
   "cell_type": "code",
   "execution_count": 117,
   "metadata": {},
   "outputs": [
    {
     "data": {
      "text/plain": [
       "4.510325460336305"
      ]
     },
     "execution_count": 117,
     "metadata": {},
     "output_type": "execute_result"
    }
   ],
   "source": [
    "# Get the ones that have more than 10 words \n",
    "trnAnswersLongest = trnAnswers[trnAnswers.num_of_words > 10]\n",
    "(trnAnswersLongest[0].count()/trnAnswers[0].count())*100"
   ]
  },
  {
   "cell_type": "code",
   "execution_count": 118,
   "metadata": {},
   "outputs": [
    {
     "name": "stdout",
     "output_type": "stream",
     "text": [
      "max:  43\n",
      "min:  1\n",
      "mean:  3.1621822166919715\n",
      "median:  2.0\n"
     ]
    }
   ],
   "source": [
    "print(\"max: \", trnAnswers['num_of_words'].max())\n",
    "print(\"min: \", trnAnswers['num_of_words'].min())\n",
    "print(\"mean: \", trnAnswers['num_of_words'].mean())\n",
    "print(\"median: \", trnAnswers['num_of_words'].median())"
   ]
  }
 ],
 "metadata": {
  "kernelspec": {
   "display_name": "hlt",
   "language": "python",
   "name": "python3"
  },
  "language_info": {
   "codemirror_mode": {
    "name": "ipython",
    "version": 3
   },
   "file_extension": ".py",
   "mimetype": "text/x-python",
   "name": "python",
   "nbconvert_exporter": "python",
   "pygments_lexer": "ipython3",
   "version": "3.10.12"
  }
 },
 "nbformat": 4,
 "nbformat_minor": 2
}
